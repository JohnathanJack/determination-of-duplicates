{
 "cells": [
  {
   "cell_type": "markdown",
   "metadata": {},
   "source": [
    "## Identifying Duplicate Questions"
   ]
  },
  {
   "cell_type": "markdown",
   "metadata": {},
   "source": [
    "Over 100 million people visit Quora every month, so it's no surprise that many people ask similar (or the same) questions. Various questions with the same intent can cause people to spend extra time searching for the best answer to their question, and results in members answering multiple versions of the same question. Quora uses random forest to identify duplicated questions to provide a better experience to active seekers and writers, and offer more value to both of these groups in the long term.\n",
    "Follow the steps outlined below to build the appropriate classifier model. \n",
    "\n",
    "\n",
    "Steps:\n",
    "- Download data\n",
    "- Exploration\n",
    "- Cleaning\n",
    "- Feature Engineering\n",
    "- Modeling\n",
    "\n",
    "By the end of this project you should have **a presentation that describes the model you built** and its **performance**. \n"
   ]
  },
  {
   "cell_type": "code",
   "execution_count": 80,
   "metadata": {},
   "outputs": [],
   "source": [
    "import pandas as pd\n",
    "import numpy as np\n",
    "import matplotlib.pyplot as plt\n",
    "import seaborn as sns"
   ]
  },
  {
   "cell_type": "code",
   "execution_count": 3,
   "metadata": {},
   "outputs": [],
   "source": [
    "df = pd.read_csv(\"train.csv\")"
   ]
  },
  {
   "cell_type": "markdown",
   "metadata": {},
   "source": [
    "#### Note\n",
    "There is no designated test.csv file. The train.csv file is the entire dataset. Part of the data in the train.csv file should be set aside to act as the final testing data."
   ]
  },
  {
   "cell_type": "code",
   "execution_count": 4,
   "metadata": {},
   "outputs": [
    {
     "name": "stdout",
     "output_type": "stream",
     "text": [
      "<class 'pandas.core.frame.DataFrame'>\n",
      "RangeIndex: 404290 entries, 0 to 404289\n",
      "Data columns (total 6 columns):\n",
      " #   Column        Non-Null Count   Dtype \n",
      "---  ------        --------------   ----- \n",
      " 0   id            404290 non-null  int64 \n",
      " 1   qid1          404290 non-null  int64 \n",
      " 2   qid2          404290 non-null  int64 \n",
      " 3   question1     404289 non-null  object\n",
      " 4   question2     404288 non-null  object\n",
      " 5   is_duplicate  404290 non-null  int64 \n",
      "dtypes: int64(4), object(2)\n",
      "memory usage: 18.5+ MB\n"
     ]
    }
   ],
   "source": [
    "df.info()"
   ]
  },
  {
   "cell_type": "markdown",
   "metadata": {},
   "source": [
    "### Exploration"
   ]
  },
  {
   "cell_type": "code",
   "execution_count": 5,
   "metadata": {},
   "outputs": [],
   "source": [
    "df = df.drop('id', axis=1)"
   ]
  },
  {
   "cell_type": "code",
   "execution_count": 6,
   "metadata": {},
   "outputs": [
    {
     "data": {
      "text/html": [
       "<div>\n",
       "<style scoped>\n",
       "    .dataframe tbody tr th:only-of-type {\n",
       "        vertical-align: middle;\n",
       "    }\n",
       "\n",
       "    .dataframe tbody tr th {\n",
       "        vertical-align: top;\n",
       "    }\n",
       "\n",
       "    .dataframe thead th {\n",
       "        text-align: right;\n",
       "    }\n",
       "</style>\n",
       "<table border=\"1\" class=\"dataframe\">\n",
       "  <thead>\n",
       "    <tr style=\"text-align: right;\">\n",
       "      <th></th>\n",
       "      <th>qid1</th>\n",
       "      <th>qid2</th>\n",
       "      <th>question1</th>\n",
       "      <th>question2</th>\n",
       "      <th>is_duplicate</th>\n",
       "    </tr>\n",
       "  </thead>\n",
       "  <tbody>\n",
       "    <tr>\n",
       "      <th>363362</th>\n",
       "      <td>493340</td>\n",
       "      <td>493341</td>\n",
       "      <td>NaN</td>\n",
       "      <td>My Chinese name is Haichao Yu. What English na...</td>\n",
       "      <td>0</td>\n",
       "    </tr>\n",
       "  </tbody>\n",
       "</table>\n",
       "</div>"
      ],
      "text/plain": [
       "          qid1    qid2 question1  \\\n",
       "363362  493340  493341       NaN   \n",
       "\n",
       "                                                question2  is_duplicate  \n",
       "363362  My Chinese name is Haichao Yu. What English na...             0  "
      ]
     },
     "execution_count": 6,
     "metadata": {},
     "output_type": "execute_result"
    }
   ],
   "source": [
    "df[df['question1'].isnull()]"
   ]
  },
  {
   "cell_type": "code",
   "execution_count": 7,
   "metadata": {},
   "outputs": [
    {
     "data": {
      "text/html": [
       "<div>\n",
       "<style scoped>\n",
       "    .dataframe tbody tr th:only-of-type {\n",
       "        vertical-align: middle;\n",
       "    }\n",
       "\n",
       "    .dataframe tbody tr th {\n",
       "        vertical-align: top;\n",
       "    }\n",
       "\n",
       "    .dataframe thead th {\n",
       "        text-align: right;\n",
       "    }\n",
       "</style>\n",
       "<table border=\"1\" class=\"dataframe\">\n",
       "  <thead>\n",
       "    <tr style=\"text-align: right;\">\n",
       "      <th></th>\n",
       "      <th>qid1</th>\n",
       "      <th>qid2</th>\n",
       "      <th>question1</th>\n",
       "      <th>question2</th>\n",
       "      <th>is_duplicate</th>\n",
       "    </tr>\n",
       "  </thead>\n",
       "  <tbody>\n",
       "    <tr>\n",
       "      <th>105780</th>\n",
       "      <td>174363</td>\n",
       "      <td>174364</td>\n",
       "      <td>How can I develop android app?</td>\n",
       "      <td>NaN</td>\n",
       "      <td>0</td>\n",
       "    </tr>\n",
       "    <tr>\n",
       "      <th>201841</th>\n",
       "      <td>303951</td>\n",
       "      <td>174364</td>\n",
       "      <td>How can I create an Android app?</td>\n",
       "      <td>NaN</td>\n",
       "      <td>0</td>\n",
       "    </tr>\n",
       "  </tbody>\n",
       "</table>\n",
       "</div>"
      ],
      "text/plain": [
       "          qid1    qid2                         question1 question2  \\\n",
       "105780  174363  174364    How can I develop android app?       NaN   \n",
       "201841  303951  174364  How can I create an Android app?       NaN   \n",
       "\n",
       "        is_duplicate  \n",
       "105780             0  \n",
       "201841             0  "
      ]
     },
     "execution_count": 7,
     "metadata": {},
     "output_type": "execute_result"
    }
   ],
   "source": [
    "df[df['question2'].isnull()]"
   ]
  },
  {
   "cell_type": "code",
   "execution_count": 8,
   "metadata": {},
   "outputs": [
    {
     "name": "stdout",
     "output_type": "stream",
     "text": [
      "<class 'pandas.core.frame.DataFrame'>\n",
      "Int64Index: 404287 entries, 0 to 404289\n",
      "Data columns (total 5 columns):\n",
      " #   Column        Non-Null Count   Dtype \n",
      "---  ------        --------------   ----- \n",
      " 0   qid1          404287 non-null  int64 \n",
      " 1   qid2          404287 non-null  int64 \n",
      " 2   question1     404287 non-null  object\n",
      " 3   question2     404287 non-null  object\n",
      " 4   is_duplicate  404287 non-null  int64 \n",
      "dtypes: int64(3), object(2)\n",
      "memory usage: 18.5+ MB\n"
     ]
    }
   ],
   "source": [
    "# Remove rows with nulls\n",
    "df = df.dropna()\n",
    "df.info()"
   ]
  },
  {
   "cell_type": "code",
   "execution_count": 9,
   "metadata": {},
   "outputs": [
    {
     "data": {
      "text/plain": [
       "36.92005926482919"
      ]
     },
     "execution_count": 9,
     "metadata": {},
     "output_type": "execute_result"
    }
   ],
   "source": [
    "# Percent duplicated\n",
    "df[df['is_duplicate']==1].shape[0] / df.shape[0] * 100\n",
    "\n",
    "# Data is somewhat bias towards un-duplicated data as it is not 50% split. "
   ]
  },
  {
   "cell_type": "code",
   "execution_count": 135,
   "metadata": {},
   "outputs": [
    {
     "data": {
      "text/plain": [
       "255024"
      ]
     },
     "execution_count": 135,
     "metadata": {},
     "output_type": "execute_result"
    }
   ],
   "source": [
    "df['is_duplicate'].value_counts()[0]"
   ]
  },
  {
   "cell_type": "code",
   "execution_count": 136,
   "metadata": {},
   "outputs": [
    {
     "data": {
      "text/plain": [
       "([<matplotlib.patches.Wedge at 0x1ee5513aac0>,\n",
       "  <matplotlib.patches.Wedge at 0x1ee551440a0>],\n",
       " [Text(-0.4393966626198468, 1.0084297560457747, 'Not duplicated'),\n",
       "  Text(0.4393966626198465, -1.008429756045775, 'Duplicated')],\n",
       " [Text(-0.23967090688355275, 0.5500525942067861, '63%'),\n",
       "  Text(0.23967090688355258, -0.5500525942067862, '37%')])"
      ]
     },
     "execution_count": 136,
     "metadata": {},
     "output_type": "execute_result"
    },
    {
     "data": {
      "image/png": "[encoded data removed]",
      "text/plain": [
       "<Figure size 432x288 with 1 Axes>"
      ]
     },
     "metadata": {},
     "output_type": "display_data"
    }
   ],
   "source": [
    "data = [df['is_duplicate'].value_counts()[0], df['is_duplicate'].value_counts()[1]]\n",
    "plt.pie(data,\n",
    "        labels = ['Not duplicated','Duplicated'],\n",
    "        autopct='%.0f%%')"
   ]
  },
  {
   "cell_type": "code",
   "execution_count": 138,
   "metadata": {},
   "outputs": [
    {
     "data": {
      "text/plain": [
       "Text(0, 0.5, 'Count')"
      ]
     },
     "execution_count": 138,
     "metadata": {},
     "output_type": "execute_result"
    },
    {
     "data": {
      "image/png": "[encoded data removed]",
      "text/plain": [
       "<Figure size 432x288 with 1 Axes>"
      ]
     },
     "metadata": {
      "needs_background": "light"
     },
     "output_type": "display_data"
    }
   ],
   "source": [
    "sns.barplot(x=['Not Duplicated', 'Duplicated'], y=data)\n",
    "plt.ylabel('Count')"
   ]
  },
  {
   "cell_type": "code",
   "execution_count": 102,
   "metadata": {},
   "outputs": [
    {
     "data": {
      "text/plain": [
       "([<matplotlib.patches.Wedge at 0x1ee49889e50>,\n",
       "  <matplotlib.patches.Wedge at 0x1ee49893520>],\n",
       " [Text(-0.994058518660401, 0.47100707158034205, 'Unique questions'),\n",
       "  Text(0.9940584966109677, -0.47100711811557894, 'Non-unique questions')],\n",
       " [Text(-0.5422137374511278, 0.25691294813473203, '86%'),\n",
       "  Text(0.5422137254241641, -0.2569129735175885, '14%')])"
      ]
     },
     "execution_count": 102,
     "metadata": {},
     "output_type": "execute_result"
    },
    {
     "data": {
      "image/png": "[encoded data removed]",
      "text/plain": [
       "<Figure size 432x288 with 1 Axes>"
      ]
     },
     "metadata": {},
     "output_type": "display_data"
    }
   ],
   "source": [
    "num_unique_qid = len(set(df['qid1'].values + df['qid2'].values))\n",
    "data = [num_unique_qid, (df.shape[0] - num_unique_qid)]\n",
    "plt.pie(data,\n",
    "        labels = ['Unique questions','Non-unique questions'],\n",
    "        autopct='%.0f%%')"
   ]
  },
  {
   "cell_type": "code",
   "execution_count": 133,
   "metadata": {},
   "outputs": [
    {
     "data": {
      "text/plain": [
       "Text(0, 0.5, 'Count')"
      ]
     },
     "execution_count": 133,
     "metadata": {},
     "output_type": "execute_result"
    },
    {
     "data": {
      "image/png": "[encoded data removed]",
      "text/plain": [
       "<Figure size 432x288 with 1 Axes>"
      ]
     },
     "metadata": {
      "needs_background": "light"
     },
     "output_type": "display_data"
    }
   ],
   "source": [
    "sns.barplot(x=['Unique Questions','Non-Unique Questions'], y=data)\n",
    "plt.ylabel('Count')"
   ]
  },
  {
   "cell_type": "code",
   "execution_count": 117,
   "metadata": {},
   "outputs": [
    {
     "data": {
      "text/plain": [
       "qid1\n",
       "8461      50\n",
       "14110     48\n",
       "1749      47\n",
       "20628     47\n",
       "25984     47\n",
       "          ..\n",
       "201869     1\n",
       "201875     1\n",
       "201877     1\n",
       "201879     1\n",
       "537932     1\n",
       "Length: 290652, dtype: int64"
      ]
     },
     "execution_count": 117,
     "metadata": {},
     "output_type": "execute_result"
    }
   ],
   "source": [
    "df.groupby('qid1').size().sort_values(ascending=False)"
   ]
  },
  {
   "cell_type": "code",
   "execution_count": 123,
   "metadata": {},
   "outputs": [
    {
     "data": {
      "text/plain": [
       "'How do I improve my English speaking?'"
      ]
     },
     "execution_count": 123,
     "metadata": {},
     "output_type": "execute_result"
    }
   ],
   "source": [
    "# Most asked question out of qid1\n",
    "df[df['qid1'] == 8461]['question1'].values[0]"
   ]
  },
  {
   "cell_type": "code",
   "execution_count": 118,
   "metadata": {},
   "outputs": [
    {
     "data": {
      "text/plain": [
       "qid2\n",
       "30782     120\n",
       "2559      115\n",
       "4044      100\n",
       "2561       71\n",
       "17978      66\n",
       "         ... \n",
       "201215      1\n",
       "201218      1\n",
       "201220      1\n",
       "201222      1\n",
       "537933      1\n",
       "Length: 299362, dtype: int64"
      ]
     },
     "execution_count": 118,
     "metadata": {},
     "output_type": "execute_result"
    }
   ],
   "source": [
    "df.groupby('qid2').size().sort_values(ascending=False)"
   ]
  },
  {
   "cell_type": "code",
   "execution_count": 122,
   "metadata": {},
   "outputs": [
    {
     "data": {
      "text/plain": [
       "\"How can you look at someone's private Instagram account without following them?\""
      ]
     },
     "execution_count": 122,
     "metadata": {},
     "output_type": "execute_result"
    }
   ],
   "source": [
    "# Most asked question out of qid2\n",
    "df[df['qid2'] == 30782]['question2'].values[0]"
   ]
  },
  {
   "cell_type": "markdown",
   "metadata": {},
   "source": [
    "### Cleaning\n",
    "\n",
    "- Tokenization\n",
    "- Stopwords cleaning\n",
    "- Removing punctuation\n",
    "- Normalizing\n",
    "- Stemming"
   ]
  },
  {
   "cell_type": "code",
   "execution_count": 10,
   "metadata": {},
   "outputs": [],
   "source": [
    "from nltk.tokenize import word_tokenize\n",
    "from nltk.corpus import stopwords\n",
    "from nltk.stem.porter import PorterStemmer"
   ]
  },
  {
   "cell_type": "code",
   "execution_count": 11,
   "metadata": {},
   "outputs": [],
   "source": [
    "# Add the stopwords where, what, who, how, when as they have significant meaning to question sentences.\n",
    "question_words = set(['where','what','who','how','when'])\n",
    "stop_words = set(stopwords.words('english'))\n",
    "new_stop_words = stop_words - question_words\n",
    "porter = PorterStemmer()"
   ]
  },
  {
   "cell_type": "code",
   "execution_count": 12,
   "metadata": {},
   "outputs": [],
   "source": [
    "def text_cleaner(list):\n",
    "    \"\"\"\n",
    "    Returns a clean list that went through tokenization, stopwords removal, punctuation removal, normalization and stemming for each word in the sentence.\n",
    "\n",
    "    Parameters: \n",
    "        list: list of sentences to be cleaned\n",
    "    \n",
    "    Returns:\n",
    "        clean list with stopwords and punctuation removed, normalized and stemming of each word in the sentence \n",
    "    \"\"\"\n",
    "    clean_list = []\n",
    "    for item in list:\n",
    "        tokens = word_tokenize(item)\n",
    "        tokens = [word.lower() for word in tokens if word.isalnum()]\n",
    "        tokens = [word for word in tokens if word not in new_stop_words]\n",
    "        tokens = [porter.stem(word) for word in tokens]\n",
    "        clean_list.append(' '.join(tokens))\n",
    "    return clean_list"
   ]
  },
  {
   "cell_type": "code",
   "execution_count": 13,
   "metadata": {},
   "outputs": [],
   "source": [
    "clean_q1 = text_cleaner(df['question1'].values)\n",
    "clean_q2 = text_cleaner(df['question2'].values)"
   ]
  },
  {
   "cell_type": "code",
   "execution_count": 14,
   "metadata": {},
   "outputs": [],
   "source": [
    "df['clean_q1'] = clean_q1\n",
    "df['clean_q2'] = clean_q2"
   ]
  },
  {
   "cell_type": "code",
   "execution_count": 15,
   "metadata": {},
   "outputs": [
    {
     "data": {
      "text/html": [
       "<div>\n",
       "<style scoped>\n",
       "    .dataframe tbody tr th:only-of-type {\n",
       "        vertical-align: middle;\n",
       "    }\n",
       "\n",
       "    .dataframe tbody tr th {\n",
       "        vertical-align: top;\n",
       "    }\n",
       "\n",
       "    .dataframe thead th {\n",
       "        text-align: right;\n",
       "    }\n",
       "</style>\n",
       "<table border=\"1\" class=\"dataframe\">\n",
       "  <thead>\n",
       "    <tr style=\"text-align: right;\">\n",
       "      <th></th>\n",
       "      <th>qid1</th>\n",
       "      <th>qid2</th>\n",
       "      <th>question1</th>\n",
       "      <th>question2</th>\n",
       "      <th>is_duplicate</th>\n",
       "      <th>clean_q1</th>\n",
       "      <th>clean_q2</th>\n",
       "    </tr>\n",
       "  </thead>\n",
       "  <tbody>\n",
       "    <tr>\n",
       "      <th>5</th>\n",
       "      <td>11</td>\n",
       "      <td>12</td>\n",
       "      <td>Astrology: I am a Capricorn Sun Cap moon and c...</td>\n",
       "      <td>I'm a triple Capricorn (Sun, Moon and ascendan...</td>\n",
       "      <td>1</td>\n",
       "      <td>astrolog capricorn sun cap moon cap rise what say</td>\n",
       "      <td>tripl capricorn sun moon ascend capricorn what...</td>\n",
       "    </tr>\n",
       "    <tr>\n",
       "      <th>7</th>\n",
       "      <td>15</td>\n",
       "      <td>16</td>\n",
       "      <td>How can I be a good geologist?</td>\n",
       "      <td>What should I do to be a great geologist?</td>\n",
       "      <td>1</td>\n",
       "      <td>how good geologist</td>\n",
       "      <td>what great geologist</td>\n",
       "    </tr>\n",
       "    <tr>\n",
       "      <th>11</th>\n",
       "      <td>23</td>\n",
       "      <td>24</td>\n",
       "      <td>How do I read and find my YouTube comments?</td>\n",
       "      <td>How can I see all my Youtube comments?</td>\n",
       "      <td>1</td>\n",
       "      <td>how read find youtub comment</td>\n",
       "      <td>how see youtub comment</td>\n",
       "    </tr>\n",
       "    <tr>\n",
       "      <th>12</th>\n",
       "      <td>25</td>\n",
       "      <td>26</td>\n",
       "      <td>What can make Physics easy to learn?</td>\n",
       "      <td>How can you make physics easy to learn?</td>\n",
       "      <td>1</td>\n",
       "      <td>what make physic easi learn</td>\n",
       "      <td>how make physic easi learn</td>\n",
       "    </tr>\n",
       "    <tr>\n",
       "      <th>13</th>\n",
       "      <td>27</td>\n",
       "      <td>28</td>\n",
       "      <td>What was your first sexual experience like?</td>\n",
       "      <td>What was your first sexual experience?</td>\n",
       "      <td>1</td>\n",
       "      <td>what first sexual experi like</td>\n",
       "      <td>what first sexual experi</td>\n",
       "    </tr>\n",
       "    <tr>\n",
       "      <th>...</th>\n",
       "      <td>...</td>\n",
       "      <td>...</td>\n",
       "      <td>...</td>\n",
       "      <td>...</td>\n",
       "      <td>...</td>\n",
       "      <td>...</td>\n",
       "      <td>...</td>\n",
       "    </tr>\n",
       "    <tr>\n",
       "      <th>404280</th>\n",
       "      <td>537922</td>\n",
       "      <td>537923</td>\n",
       "      <td>What are some outfit ideas to wear to a frat p...</td>\n",
       "      <td>What are some outfit ideas wear to a frat them...</td>\n",
       "      <td>1</td>\n",
       "      <td>what outfit idea wear frat parti</td>\n",
       "      <td>what outfit idea wear frat theme parti</td>\n",
       "    </tr>\n",
       "    <tr>\n",
       "      <th>404281</th>\n",
       "      <td>99131</td>\n",
       "      <td>81495</td>\n",
       "      <td>Why is Manaphy childish in Pokémon Ranger and ...</td>\n",
       "      <td>Why is Manaphy annoying in Pokemon ranger and ...</td>\n",
       "      <td>1</td>\n",
       "      <td>manaphi childish pokémon ranger templ sea</td>\n",
       "      <td>manaphi annoy pokemon ranger templ sea</td>\n",
       "    </tr>\n",
       "    <tr>\n",
       "      <th>404282</th>\n",
       "      <td>1931</td>\n",
       "      <td>16773</td>\n",
       "      <td>How does a long distance relationship work?</td>\n",
       "      <td>How are long distance relationships maintained?</td>\n",
       "      <td>1</td>\n",
       "      <td>how long distanc relationship work</td>\n",
       "      <td>how long distanc relationship maintain</td>\n",
       "    </tr>\n",
       "    <tr>\n",
       "      <th>404284</th>\n",
       "      <td>537926</td>\n",
       "      <td>537927</td>\n",
       "      <td>What does Jainism say about homosexuality?</td>\n",
       "      <td>What does Jainism say about Gays and Homosexua...</td>\n",
       "      <td>1</td>\n",
       "      <td>what jainism say homosexu</td>\n",
       "      <td>what jainism say gay homosexu</td>\n",
       "    </tr>\n",
       "    <tr>\n",
       "      <th>404286</th>\n",
       "      <td>18840</td>\n",
       "      <td>155606</td>\n",
       "      <td>Do you believe there is life after death?</td>\n",
       "      <td>Is it true that there is life after death?</td>\n",
       "      <td>1</td>\n",
       "      <td>believ life death</td>\n",
       "      <td>true life death</td>\n",
       "    </tr>\n",
       "  </tbody>\n",
       "</table>\n",
       "<p>149263 rows × 7 columns</p>\n",
       "</div>"
      ],
      "text/plain": [
       "          qid1    qid2                                          question1  \\\n",
       "5           11      12  Astrology: I am a Capricorn Sun Cap moon and c...   \n",
       "7           15      16                     How can I be a good geologist?   \n",
       "11          23      24        How do I read and find my YouTube comments?   \n",
       "12          25      26               What can make Physics easy to learn?   \n",
       "13          27      28        What was your first sexual experience like?   \n",
       "...        ...     ...                                                ...   \n",
       "404280  537922  537923  What are some outfit ideas to wear to a frat p...   \n",
       "404281   99131   81495  Why is Manaphy childish in Pokémon Ranger and ...   \n",
       "404282    1931   16773        How does a long distance relationship work?   \n",
       "404284  537926  537927         What does Jainism say about homosexuality?   \n",
       "404286   18840  155606          Do you believe there is life after death?   \n",
       "\n",
       "                                                question2  is_duplicate  \\\n",
       "5       I'm a triple Capricorn (Sun, Moon and ascendan...             1   \n",
       "7               What should I do to be a great geologist?             1   \n",
       "11                 How can I see all my Youtube comments?             1   \n",
       "12                How can you make physics easy to learn?             1   \n",
       "13                 What was your first sexual experience?             1   \n",
       "...                                                   ...           ...   \n",
       "404280  What are some outfit ideas wear to a frat them...             1   \n",
       "404281  Why is Manaphy annoying in Pokemon ranger and ...             1   \n",
       "404282    How are long distance relationships maintained?             1   \n",
       "404284  What does Jainism say about Gays and Homosexua...             1   \n",
       "404286         Is it true that there is life after death?             1   \n",
       "\n",
       "                                                 clean_q1  \\\n",
       "5       astrolog capricorn sun cap moon cap rise what say   \n",
       "7                                      how good geologist   \n",
       "11                           how read find youtub comment   \n",
       "12                            what make physic easi learn   \n",
       "13                          what first sexual experi like   \n",
       "...                                                   ...   \n",
       "404280                   what outfit idea wear frat parti   \n",
       "404281          manaphi childish pokémon ranger templ sea   \n",
       "404282                 how long distanc relationship work   \n",
       "404284                          what jainism say homosexu   \n",
       "404286                                  believ life death   \n",
       "\n",
       "                                                 clean_q2  \n",
       "5       tripl capricorn sun moon ascend capricorn what...  \n",
       "7                                    what great geologist  \n",
       "11                                 how see youtub comment  \n",
       "12                             how make physic easi learn  \n",
       "13                               what first sexual experi  \n",
       "...                                                   ...  \n",
       "404280             what outfit idea wear frat theme parti  \n",
       "404281             manaphi annoy pokemon ranger templ sea  \n",
       "404282             how long distanc relationship maintain  \n",
       "404284                      what jainism say gay homosexu  \n",
       "404286                                    true life death  \n",
       "\n",
       "[149263 rows x 7 columns]"
      ]
     },
     "execution_count": 15,
     "metadata": {},
     "output_type": "execute_result"
    }
   ],
   "source": [
    "df[df['is_duplicate'] == 1]"
   ]
  },
  {
   "cell_type": "markdown",
   "metadata": {},
   "source": [
    "### Feature Engineering\n",
    "\n",
    "- tf-idf\n",
    "- word2vec\n",
    "- word count\n",
    "- number of the same words in both questions\n",
    "- ...."
   ]
  },
  {
   "cell_type": "code",
   "execution_count": 16,
   "metadata": {},
   "outputs": [],
   "source": [
    "def num_words(list):\n",
    "    return len(list.split())\n"
   ]
  },
  {
   "cell_type": "code",
   "execution_count": 17,
   "metadata": {},
   "outputs": [],
   "source": [
    "# Word count for cleaned version 1 and 2\n",
    "word_count = []\n",
    "for sent in df['clean_q1']:\n",
    "    word_count.append(num_words(sent))\n",
    "df['q1_word_count'] = word_count\n",
    "\n",
    "word_count2 = []\n",
    "for sent in df['clean_q2']:\n",
    "    word_count2.append(num_words(sent))\n",
    "df['q2_word_count'] = word_count2"
   ]
  },
  {
   "cell_type": "code",
   "execution_count": 18,
   "metadata": {},
   "outputs": [],
   "source": [
    "def common_word_cnt(list1, list2):\n",
    "    counter = 0\n",
    "    for item in list1:\n",
    "        if item in list2:\n",
    "            counter += 1\n",
    "    return counter"
   ]
  },
  {
   "cell_type": "code",
   "execution_count": 19,
   "metadata": {},
   "outputs": [],
   "source": [
    "# Number of common words between the two sentences\n",
    "common_word_count = []\n",
    "for item in df[['clean_q1','clean_q2']].values:\n",
    "    common_word_count.append(common_word_cnt(item[0].split(),item[1].split()))"
   ]
  },
  {
   "cell_type": "code",
   "execution_count": 20,
   "metadata": {},
   "outputs": [
    {
     "data": {
      "text/html": [
       "<div>\n",
       "<style scoped>\n",
       "    .dataframe tbody tr th:only-of-type {\n",
       "        vertical-align: middle;\n",
       "    }\n",
       "\n",
       "    .dataframe tbody tr th {\n",
       "        vertical-align: top;\n",
       "    }\n",
       "\n",
       "    .dataframe thead th {\n",
       "        text-align: right;\n",
       "    }\n",
       "</style>\n",
       "<table border=\"1\" class=\"dataframe\">\n",
       "  <thead>\n",
       "    <tr style=\"text-align: right;\">\n",
       "      <th></th>\n",
       "      <th>qid1</th>\n",
       "      <th>qid2</th>\n",
       "      <th>question1</th>\n",
       "      <th>question2</th>\n",
       "      <th>is_duplicate</th>\n",
       "      <th>clean_q1</th>\n",
       "      <th>clean_q2</th>\n",
       "      <th>q1_word_count</th>\n",
       "      <th>q2_word_count</th>\n",
       "      <th>common_word_cnt</th>\n",
       "    </tr>\n",
       "  </thead>\n",
       "  <tbody>\n",
       "    <tr>\n",
       "      <th>0</th>\n",
       "      <td>1</td>\n",
       "      <td>2</td>\n",
       "      <td>What is the step by step guide to invest in sh...</td>\n",
       "      <td>What is the step by step guide to invest in sh...</td>\n",
       "      <td>0</td>\n",
       "      <td>what step step guid invest share market india</td>\n",
       "      <td>what step step guid invest share market</td>\n",
       "      <td>8</td>\n",
       "      <td>7</td>\n",
       "      <td>7</td>\n",
       "    </tr>\n",
       "    <tr>\n",
       "      <th>1</th>\n",
       "      <td>3</td>\n",
       "      <td>4</td>\n",
       "      <td>What is the story of Kohinoor (Koh-i-Noor) Dia...</td>\n",
       "      <td>What would happen if the Indian government sto...</td>\n",
       "      <td>0</td>\n",
       "      <td>what stori kohinoor diamond</td>\n",
       "      <td>what would happen indian govern stole kohinoor...</td>\n",
       "      <td>4</td>\n",
       "      <td>9</td>\n",
       "      <td>3</td>\n",
       "    </tr>\n",
       "    <tr>\n",
       "      <th>2</th>\n",
       "      <td>5</td>\n",
       "      <td>6</td>\n",
       "      <td>How can I increase the speed of my internet co...</td>\n",
       "      <td>How can Internet speed be increased by hacking...</td>\n",
       "      <td>0</td>\n",
       "      <td>how increas speed internet connect use vpn</td>\n",
       "      <td>how internet speed increas hack dn</td>\n",
       "      <td>7</td>\n",
       "      <td>6</td>\n",
       "      <td>4</td>\n",
       "    </tr>\n",
       "    <tr>\n",
       "      <th>3</th>\n",
       "      <td>7</td>\n",
       "      <td>8</td>\n",
       "      <td>Why am I mentally very lonely? How can I solve...</td>\n",
       "      <td>Find the remainder when [math]23^{24}[/math] i...</td>\n",
       "      <td>0</td>\n",
       "      <td>mental lone how solv</td>\n",
       "      <td>find remaind when math 24 divid</td>\n",
       "      <td>4</td>\n",
       "      <td>6</td>\n",
       "      <td>0</td>\n",
       "    </tr>\n",
       "    <tr>\n",
       "      <th>4</th>\n",
       "      <td>9</td>\n",
       "      <td>10</td>\n",
       "      <td>Which one dissolve in water quikly sugar, salt...</td>\n",
       "      <td>Which fish would survive in salt water?</td>\n",
       "      <td>0</td>\n",
       "      <td>one dissolv water quikli sugar salt methan car...</td>\n",
       "      <td>fish would surviv salt water</td>\n",
       "      <td>10</td>\n",
       "      <td>5</td>\n",
       "      <td>2</td>\n",
       "    </tr>\n",
       "    <tr>\n",
       "      <th>...</th>\n",
       "      <td>...</td>\n",
       "      <td>...</td>\n",
       "      <td>...</td>\n",
       "      <td>...</td>\n",
       "      <td>...</td>\n",
       "      <td>...</td>\n",
       "      <td>...</td>\n",
       "      <td>...</td>\n",
       "      <td>...</td>\n",
       "      <td>...</td>\n",
       "    </tr>\n",
       "    <tr>\n",
       "      <th>404285</th>\n",
       "      <td>433578</td>\n",
       "      <td>379845</td>\n",
       "      <td>How many keywords are there in the Racket prog...</td>\n",
       "      <td>How many keywords are there in PERL Programmin...</td>\n",
       "      <td>0</td>\n",
       "      <td>how mani keyword racket program languag latest...</td>\n",
       "      <td>how mani keyword perl program languag latest v...</td>\n",
       "      <td>8</td>\n",
       "      <td>8</td>\n",
       "      <td>7</td>\n",
       "    </tr>\n",
       "    <tr>\n",
       "      <th>404286</th>\n",
       "      <td>18840</td>\n",
       "      <td>155606</td>\n",
       "      <td>Do you believe there is life after death?</td>\n",
       "      <td>Is it true that there is life after death?</td>\n",
       "      <td>1</td>\n",
       "      <td>believ life death</td>\n",
       "      <td>true life death</td>\n",
       "      <td>3</td>\n",
       "      <td>3</td>\n",
       "      <td>2</td>\n",
       "    </tr>\n",
       "    <tr>\n",
       "      <th>404287</th>\n",
       "      <td>537928</td>\n",
       "      <td>537929</td>\n",
       "      <td>What is one coin?</td>\n",
       "      <td>What's this coin?</td>\n",
       "      <td>0</td>\n",
       "      <td>what one coin</td>\n",
       "      <td>what coin</td>\n",
       "      <td>3</td>\n",
       "      <td>2</td>\n",
       "      <td>2</td>\n",
       "    </tr>\n",
       "    <tr>\n",
       "      <th>404288</th>\n",
       "      <td>537930</td>\n",
       "      <td>537931</td>\n",
       "      <td>What is the approx annual cost of living while...</td>\n",
       "      <td>I am having little hairfall problem but I want...</td>\n",
       "      <td>0</td>\n",
       "      <td>what approx annual cost live studi uic chicago...</td>\n",
       "      <td>littl hairfal problem want use hair style prod...</td>\n",
       "      <td>10</td>\n",
       "      <td>13</td>\n",
       "      <td>0</td>\n",
       "    </tr>\n",
       "    <tr>\n",
       "      <th>404289</th>\n",
       "      <td>537932</td>\n",
       "      <td>537933</td>\n",
       "      <td>What is like to have sex with cousin?</td>\n",
       "      <td>What is it like to have sex with your cousin?</td>\n",
       "      <td>0</td>\n",
       "      <td>what like sex cousin</td>\n",
       "      <td>what like sex cousin</td>\n",
       "      <td>4</td>\n",
       "      <td>4</td>\n",
       "      <td>4</td>\n",
       "    </tr>\n",
       "  </tbody>\n",
       "</table>\n",
       "<p>404287 rows × 10 columns</p>\n",
       "</div>"
      ],
      "text/plain": [
       "          qid1    qid2                                          question1  \\\n",
       "0            1       2  What is the step by step guide to invest in sh...   \n",
       "1            3       4  What is the story of Kohinoor (Koh-i-Noor) Dia...   \n",
       "2            5       6  How can I increase the speed of my internet co...   \n",
       "3            7       8  Why am I mentally very lonely? How can I solve...   \n",
       "4            9      10  Which one dissolve in water quikly sugar, salt...   \n",
       "...        ...     ...                                                ...   \n",
       "404285  433578  379845  How many keywords are there in the Racket prog...   \n",
       "404286   18840  155606          Do you believe there is life after death?   \n",
       "404287  537928  537929                                  What is one coin?   \n",
       "404288  537930  537931  What is the approx annual cost of living while...   \n",
       "404289  537932  537933              What is like to have sex with cousin?   \n",
       "\n",
       "                                                question2  is_duplicate  \\\n",
       "0       What is the step by step guide to invest in sh...             0   \n",
       "1       What would happen if the Indian government sto...             0   \n",
       "2       How can Internet speed be increased by hacking...             0   \n",
       "3       Find the remainder when [math]23^{24}[/math] i...             0   \n",
       "4                 Which fish would survive in salt water?             0   \n",
       "...                                                   ...           ...   \n",
       "404285  How many keywords are there in PERL Programmin...             0   \n",
       "404286         Is it true that there is life after death?             1   \n",
       "404287                                  What's this coin?             0   \n",
       "404288  I am having little hairfall problem but I want...             0   \n",
       "404289      What is it like to have sex with your cousin?             0   \n",
       "\n",
       "                                                 clean_q1  \\\n",
       "0           what step step guid invest share market india   \n",
       "1                             what stori kohinoor diamond   \n",
       "2              how increas speed internet connect use vpn   \n",
       "3                                    mental lone how solv   \n",
       "4       one dissolv water quikli sugar salt methan car...   \n",
       "...                                                   ...   \n",
       "404285  how mani keyword racket program languag latest...   \n",
       "404286                                  believ life death   \n",
       "404287                                      what one coin   \n",
       "404288  what approx annual cost live studi uic chicago...   \n",
       "404289                               what like sex cousin   \n",
       "\n",
       "                                                 clean_q2  q1_word_count  \\\n",
       "0                 what step step guid invest share market              8   \n",
       "1       what would happen indian govern stole kohinoor...              4   \n",
       "2                      how internet speed increas hack dn              7   \n",
       "3                         find remaind when math 24 divid              4   \n",
       "4                            fish would surviv salt water             10   \n",
       "...                                                   ...            ...   \n",
       "404285  how mani keyword perl program languag latest v...              8   \n",
       "404286                                    true life death              3   \n",
       "404287                                          what coin              3   \n",
       "404288  littl hairfal problem want use hair style prod...             10   \n",
       "404289                               what like sex cousin              4   \n",
       "\n",
       "        q2_word_count  common_word_cnt  \n",
       "0                   7                7  \n",
       "1                   9                3  \n",
       "2                   6                4  \n",
       "3                   6                0  \n",
       "4                   5                2  \n",
       "...               ...              ...  \n",
       "404285              8                7  \n",
       "404286              3                2  \n",
       "404287              2                2  \n",
       "404288             13                0  \n",
       "404289              4                4  \n",
       "\n",
       "[404287 rows x 10 columns]"
      ]
     },
     "execution_count": 20,
     "metadata": {},
     "output_type": "execute_result"
    }
   ],
   "source": [
    "df['common_word_cnt'] = common_word_count\n",
    "df"
   ]
  },
  {
   "cell_type": "code",
   "execution_count": 21,
   "metadata": {},
   "outputs": [
    {
     "data": {
      "text/html": [
       "<div>\n",
       "<style scoped>\n",
       "    .dataframe tbody tr th:only-of-type {\n",
       "        vertical-align: middle;\n",
       "    }\n",
       "\n",
       "    .dataframe tbody tr th {\n",
       "        vertical-align: top;\n",
       "    }\n",
       "\n",
       "    .dataframe thead th {\n",
       "        text-align: right;\n",
       "    }\n",
       "</style>\n",
       "<table border=\"1\" class=\"dataframe\">\n",
       "  <thead>\n",
       "    <tr style=\"text-align: right;\">\n",
       "      <th></th>\n",
       "      <th>clean_q1</th>\n",
       "      <th>clean_q2</th>\n",
       "      <th>q1_word_count</th>\n",
       "      <th>q2_word_count</th>\n",
       "      <th>common_word_cnt</th>\n",
       "      <th>is_duplicate</th>\n",
       "    </tr>\n",
       "  </thead>\n",
       "  <tbody>\n",
       "    <tr>\n",
       "      <th>0</th>\n",
       "      <td>what step step guid invest share market india</td>\n",
       "      <td>what step step guid invest share market</td>\n",
       "      <td>8</td>\n",
       "      <td>7</td>\n",
       "      <td>7</td>\n",
       "      <td>0</td>\n",
       "    </tr>\n",
       "    <tr>\n",
       "      <th>1</th>\n",
       "      <td>what stori kohinoor diamond</td>\n",
       "      <td>what would happen indian govern stole kohinoor...</td>\n",
       "      <td>4</td>\n",
       "      <td>9</td>\n",
       "      <td>3</td>\n",
       "      <td>0</td>\n",
       "    </tr>\n",
       "    <tr>\n",
       "      <th>2</th>\n",
       "      <td>how increas speed internet connect use vpn</td>\n",
       "      <td>how internet speed increas hack dn</td>\n",
       "      <td>7</td>\n",
       "      <td>6</td>\n",
       "      <td>4</td>\n",
       "      <td>0</td>\n",
       "    </tr>\n",
       "    <tr>\n",
       "      <th>3</th>\n",
       "      <td>mental lone how solv</td>\n",
       "      <td>find remaind when math 24 divid</td>\n",
       "      <td>4</td>\n",
       "      <td>6</td>\n",
       "      <td>0</td>\n",
       "      <td>0</td>\n",
       "    </tr>\n",
       "    <tr>\n",
       "      <th>4</th>\n",
       "      <td>one dissolv water quikli sugar salt methan car...</td>\n",
       "      <td>fish would surviv salt water</td>\n",
       "      <td>10</td>\n",
       "      <td>5</td>\n",
       "      <td>2</td>\n",
       "      <td>0</td>\n",
       "    </tr>\n",
       "    <tr>\n",
       "      <th>...</th>\n",
       "      <td>...</td>\n",
       "      <td>...</td>\n",
       "      <td>...</td>\n",
       "      <td>...</td>\n",
       "      <td>...</td>\n",
       "      <td>...</td>\n",
       "    </tr>\n",
       "    <tr>\n",
       "      <th>404285</th>\n",
       "      <td>how mani keyword racket program languag latest...</td>\n",
       "      <td>how mani keyword perl program languag latest v...</td>\n",
       "      <td>8</td>\n",
       "      <td>8</td>\n",
       "      <td>7</td>\n",
       "      <td>0</td>\n",
       "    </tr>\n",
       "    <tr>\n",
       "      <th>404286</th>\n",
       "      <td>believ life death</td>\n",
       "      <td>true life death</td>\n",
       "      <td>3</td>\n",
       "      <td>3</td>\n",
       "      <td>2</td>\n",
       "      <td>1</td>\n",
       "    </tr>\n",
       "    <tr>\n",
       "      <th>404287</th>\n",
       "      <td>what one coin</td>\n",
       "      <td>what coin</td>\n",
       "      <td>3</td>\n",
       "      <td>2</td>\n",
       "      <td>2</td>\n",
       "      <td>0</td>\n",
       "    </tr>\n",
       "    <tr>\n",
       "      <th>404288</th>\n",
       "      <td>what approx annual cost live studi uic chicago...</td>\n",
       "      <td>littl hairfal problem want use hair style prod...</td>\n",
       "      <td>10</td>\n",
       "      <td>13</td>\n",
       "      <td>0</td>\n",
       "      <td>0</td>\n",
       "    </tr>\n",
       "    <tr>\n",
       "      <th>404289</th>\n",
       "      <td>what like sex cousin</td>\n",
       "      <td>what like sex cousin</td>\n",
       "      <td>4</td>\n",
       "      <td>4</td>\n",
       "      <td>4</td>\n",
       "      <td>0</td>\n",
       "    </tr>\n",
       "  </tbody>\n",
       "</table>\n",
       "<p>404287 rows × 6 columns</p>\n",
       "</div>"
      ],
      "text/plain": [
       "                                                 clean_q1  \\\n",
       "0           what step step guid invest share market india   \n",
       "1                             what stori kohinoor diamond   \n",
       "2              how increas speed internet connect use vpn   \n",
       "3                                    mental lone how solv   \n",
       "4       one dissolv water quikli sugar salt methan car...   \n",
       "...                                                   ...   \n",
       "404285  how mani keyword racket program languag latest...   \n",
       "404286                                  believ life death   \n",
       "404287                                      what one coin   \n",
       "404288  what approx annual cost live studi uic chicago...   \n",
       "404289                               what like sex cousin   \n",
       "\n",
       "                                                 clean_q2  q1_word_count  \\\n",
       "0                 what step step guid invest share market              8   \n",
       "1       what would happen indian govern stole kohinoor...              4   \n",
       "2                      how internet speed increas hack dn              7   \n",
       "3                         find remaind when math 24 divid              4   \n",
       "4                            fish would surviv salt water             10   \n",
       "...                                                   ...            ...   \n",
       "404285  how mani keyword perl program languag latest v...              8   \n",
       "404286                                    true life death              3   \n",
       "404287                                          what coin              3   \n",
       "404288  littl hairfal problem want use hair style prod...             10   \n",
       "404289                               what like sex cousin              4   \n",
       "\n",
       "        q2_word_count  common_word_cnt  is_duplicate  \n",
       "0                   7                7             0  \n",
       "1                   9                3             0  \n",
       "2                   6                4             0  \n",
       "3                   6                0             0  \n",
       "4                   5                2             0  \n",
       "...               ...              ...           ...  \n",
       "404285              8                7             0  \n",
       "404286              3                2             1  \n",
       "404287              2                2             0  \n",
       "404288             13                0             0  \n",
       "404289              4                4             0  \n",
       "\n",
       "[404287 rows x 6 columns]"
      ]
     },
     "execution_count": 21,
     "metadata": {},
     "output_type": "execute_result"
    }
   ],
   "source": [
    "model_df = df[['clean_q1','clean_q2','q1_word_count','q2_word_count','common_word_cnt','is_duplicate']]\n",
    "model_df"
   ]
  },
  {
   "cell_type": "markdown",
   "metadata": {},
   "source": [
    "### Modeling\n",
    "\n",
    "Different modeling techniques can be used:\n",
    "\n",
    "- logistic regression\n",
    "- XGBoost\n",
    "- LSTMs\n",
    "- etc"
   ]
  },
  {
   "cell_type": "code",
   "execution_count": 148,
   "metadata": {},
   "outputs": [],
   "source": [
    "import xgboost as xgb\n",
    "from sklearn.model_selection import train_test_split, GridSearchCV\n",
    "from sklearn.feature_extraction.text import TfidfVectorizer\n",
    "from sklearn.metrics import accuracy_score, confusion_matrix, recall_score, precision_score, f1_score\n",
    "from scipy.sparse import hstack\n",
    "import scipy"
   ]
  },
  {
   "cell_type": "code",
   "execution_count": 23,
   "metadata": {},
   "outputs": [],
   "source": [
    "y = model_df['is_duplicate']\n",
    "X = model_df.drop('is_duplicate',axis=1)\n"
   ]
  },
  {
   "cell_type": "code",
   "execution_count": 149,
   "metadata": {},
   "outputs": [],
   "source": [
    "model = xgb.XGBClassifier()\n",
    "x_train, x_test, y_train, y_test = train_test_split(X,y,test_size = 0.3)"
   ]
  },
  {
   "cell_type": "code",
   "execution_count": 35,
   "metadata": {},
   "outputs": [],
   "source": [
    "def vectorize_questions(train, test):\n",
    "    vectorizer = TfidfVectorizer(max_features=20000)\n",
    "    train_vec = vectorizer.fit_transform(train)\n",
    "    test_vec = vectorizer.transform(test)\n",
    "    return train_vec, test_vec\n"
   ]
  },
  {
   "cell_type": "code",
   "execution_count": 36,
   "metadata": {},
   "outputs": [],
   "source": [
    "cat_data = ['clean_q1','clean_q2']\n",
    "num_data = ['q1_word_count','q2_word_count','common_word_cnt']"
   ]
  },
  {
   "cell_type": "code",
   "execution_count": 37,
   "metadata": {},
   "outputs": [],
   "source": [
    "# create the vectorized dataframe for questions\n",
    "vec_train1, vec_test1 = vectorize_questions(x_train[cat_data[0]], x_test[cat_data[0]])\n",
    "vec_train2, vec_test2 = vectorize_questions(x_train[cat_data[1]], x_test[cat_data[1]])\n",
    "\n",
    "train_vec_df = hstack([vec_train1, vec_train2])\n",
    "test_vec_df = hstack([vec_test1, vec_test2])"
   ]
  },
  {
   "cell_type": "code",
   "execution_count": 45,
   "metadata": {},
   "outputs": [],
   "source": [
    "# convert to sparse matrix to combine together for the final dataframe\n",
    "train_sparse = scipy.sparse.csr_matrix(x_train.drop(cat_data, axis=1))\n",
    "test_sparse = scipy.sparse.csr_matrix(x_test.drop(cat_data, axis=1))\n",
    "\n",
    "vec_x_train = hstack([train_sparse, train_vec_df])\n",
    "vec_x_test = hstack([test_sparse, test_vec_df])"
   ]
  },
  {
   "cell_type": "code",
   "execution_count": 49,
   "metadata": {},
   "outputs": [
    {
     "data": {
      "text/plain": [
       "array([[65680, 11075],\n",
       "       [16023, 28509]], dtype=int64)"
      ]
     },
     "execution_count": 49,
     "metadata": {},
     "output_type": "execute_result"
    }
   ],
   "source": [
    "model.fit(vec_x_train, y_train)\n",
    "y_pred = model.predict(vec_x_test)\n",
    "print(confusion_matrix(y_test, y_pred))"
   ]
  },
  {
   "cell_type": "code",
   "execution_count": 58,
   "metadata": {},
   "outputs": [
    {
     "name": "stdout",
     "output_type": "stream",
     "text": [
      "accuracy:  0.7765795180027538\n",
      "recall:  0.6401913230935058\n",
      "precision:  0.720215238480194\n",
      "f1 score:  0.6778496362166532\n"
     ]
    }
   ],
   "source": [
    "print('accuracy: ', accuracy_score(y_test, y_pred))\n",
    "print('recall: ', recall_score(y_test, y_pred))\n",
    "print('precision: ', precision_score(y_test, y_pred))\n",
    "print('f1 score: ', f1_score(y_test, y_pred))"
   ]
  },
  {
   "cell_type": "code",
   "execution_count": 150,
   "metadata": {},
   "outputs": [
    {
     "data": {
      "text/plain": [
       "{'learning_rate': 0.1, 'max_depth': 2}"
      ]
     },
     "execution_count": 150,
     "metadata": {},
     "output_type": "execute_result"
    }
   ],
   "source": [
    "param_grid = {'learning_rate': [0.001,0.01,0.1,1],\n",
    "              'max_depth': [2,5,10,15,25,50]}\n",
    "\n",
    "grid_search = GridSearchCV(estimator=model, param_grid=param_grid, cv=5)\n",
    "grid_search.fit(vec_x_train, y_train)\n",
    "grid_search.best_params_"
   ]
  },
  {
   "cell_type": "code",
   "execution_count": 162,
   "metadata": {},
   "outputs": [
    {
     "data": {
      "text/plain": [
       "array([0.63009894, 0.62997173, 0.62974558, 0.62951237, 0.62869965,\n",
       "       0.62713428, 0.63012367, 0.63010601, 0.630053  , 0.62995406,\n",
       "       0.62958304, 0.62856184, 0.63012721, 0.63001413, 0.62968551,\n",
       "       0.62926855, 0.62811661, 0.62502827, 0.62355124, 0.61654064,\n",
       "       0.6044523 , 0.59409894, 0.58000707, 0.56320495])"
      ]
     },
     "execution_count": 162,
     "metadata": {},
     "output_type": "execute_result"
    }
   ],
   "source": [
    "grid_search.cv_results_['mean_test_score']"
   ]
  },
  {
   "cell_type": "code",
   "execution_count": 154,
   "metadata": {},
   "outputs": [],
   "source": [
    "best_model = xgb.XGBClassifier(learning_rate=0.1, max_depth=2)"
   ]
  },
  {
   "cell_type": "code",
   "execution_count": 155,
   "metadata": {},
   "outputs": [
    {
     "name": "stdout",
     "output_type": "stream",
     "text": [
      "[[76678     8]\n",
      " [44595     6]]\n"
     ]
    }
   ],
   "source": [
    "best_model.fit(vec_x_train, y_train)\n",
    "y_pred = best_model.predict(vec_x_test)\n",
    "print(confusion_matrix(y_test, y_pred))"
   ]
  },
  {
   "cell_type": "code",
   "execution_count": 156,
   "metadata": {},
   "outputs": [
    {
     "name": "stdout",
     "output_type": "stream",
     "text": [
      "accuracy:  0.6322524260637991\n",
      "recall:  0.00013452613170108295\n",
      "precision:  0.42857142857142855\n",
      "f1 score:  0.0002689678359296201\n"
     ]
    }
   ],
   "source": [
    "print('accuracy: ', accuracy_score(y_test, y_pred))\n",
    "print('recall: ', recall_score(y_test, y_pred))\n",
    "print('precision: ', precision_score(y_test, y_pred))\n",
    "print('f1 score: ', f1_score(y_test, y_pred))"
   ]
  },
  {
   "cell_type": "code",
   "execution_count": 59,
   "metadata": {},
   "outputs": [],
   "source": [
    "from sklearn.ensemble import RandomForestClassifier"
   ]
  },
  {
   "cell_type": "code",
   "execution_count": 66,
   "metadata": {},
   "outputs": [
    {
     "name": "stdout",
     "output_type": "stream",
     "text": [
      "[[74895  1860]\n",
      " [31852 12680]]\n"
     ]
    }
   ],
   "source": [
    "f_model = RandomForestClassifier(max_depth = 50, n_estimators=50)\n",
    "f_model.fit(vec_x_train, y_train)\n",
    "f_y_pred = f_model.predict(vec_x_test)\n",
    "print(confusion_matrix(y_test, f_y_pred))"
   ]
  },
  {
   "cell_type": "code",
   "execution_count": 67,
   "metadata": {},
   "outputs": [
    {
     "name": "stdout",
     "output_type": "stream",
     "text": [
      "accuracy:  0.7220477050302175\n",
      "recall:  0.28473906404383365\n",
      "precision:  0.8720770288858322\n",
      "f1 score:  0.4293066088840736\n"
     ]
    }
   ],
   "source": [
    "print('accuracy: ', accuracy_score(y_test, f_y_pred))\n",
    "print('recall: ', recall_score(y_test, f_y_pred))\n",
    "print('precision: ', precision_score(y_test, f_y_pred))\n",
    "print('f1 score: ', f1_score(y_test, f_y_pred))"
   ]
  },
  {
   "cell_type": "code",
   "execution_count": 68,
   "metadata": {},
   "outputs": [],
   "source": [
    "from sklearn import naive_bayes"
   ]
  },
  {
   "cell_type": "code",
   "execution_count": 71,
   "metadata": {},
   "outputs": [
    {
     "name": "stdout",
     "output_type": "stream",
     "text": [
      "[[65174 11581]\n",
      " [17597 26935]]\n"
     ]
    }
   ],
   "source": [
    "n_model = naive_bayes.MultinomialNB()\n",
    "n_model.fit(vec_x_train, y_train)\n",
    "n_y_pred = n_model.predict(vec_x_test)\n",
    "print(confusion_matrix(y_test, n_y_pred))"
   ]
  },
  {
   "cell_type": "code",
   "execution_count": 73,
   "metadata": {},
   "outputs": [
    {
     "name": "stdout",
     "output_type": "stream",
     "text": [
      "accuracy:  0.7594301120482821\n",
      "recall:  0.6048459534716608\n",
      "precision:  0.6993197632152871\n",
      "f1 score:  0.6486610153164435\n"
     ]
    }
   ],
   "source": [
    "print('accuracy: ', accuracy_score(y_test, n_y_pred))\n",
    "print('recall: ', recall_score(y_test, n_y_pred))\n",
    "print('precision: ', precision_score(y_test, n_y_pred))\n",
    "print('f1 score: ', f1_score(y_test, n_y_pred))"
   ]
  },
  {
   "cell_type": "code",
   "execution_count": 191,
   "metadata": {},
   "outputs": [],
   "source": [
    "from keras.models import Sequential\n",
    "from keras import layers\n",
    "from sklearn.decomposition import TruncatedSVD\n",
    "from keras.backend import clear_session"
   ]
  },
  {
   "cell_type": "code",
   "execution_count": 192,
   "metadata": {},
   "outputs": [],
   "source": [
    "svd = TruncatedSVD(100)\n",
    "svd_x_train = svd.fit_transform(vec_x_train)\n",
    "svd_x_test = svd.transform(vec_x_test)"
   ]
  },
  {
   "cell_type": "code",
   "execution_count": 193,
   "metadata": {},
   "outputs": [
    {
     "name": "stdout",
     "output_type": "stream",
     "text": [
      "Model: \"sequential\"\n",
      "_________________________________________________________________\n",
      " Layer (type)                Output Shape              Param #   \n",
      "=================================================================\n",
      " dense (Dense)               (None, 10)                1010      \n",
      "                                                                 \n",
      " dense_1 (Dense)             (None, 1)                 11        \n",
      "                                                                 \n",
      "=================================================================\n",
      "Total params: 1,021\n",
      "Trainable params: 1,021\n",
      "Non-trainable params: 0\n",
      "_________________________________________________________________\n"
     ]
    }
   ],
   "source": [
    "input_dim = svd_x_train.shape[1]\n",
    "model = Sequential()\n",
    "model.add(layers.Dense(10, input_dim=input_dim, activation='relu'))\n",
    "model.add(layers.Dense(1,activation='sigmoid'))\n",
    "model.compile(loss = 'binary_crossentropy',\n",
    "              optimizer = 'adam',\n",
    "              metrics = ['accuracy'])\n",
    "model.summary()"
   ]
  },
  {
   "cell_type": "code",
   "execution_count": 195,
   "metadata": {},
   "outputs": [
    {
     "name": "stdout",
     "output_type": "stream",
     "text": [
      "Epoch 1/10\n",
      "5660/5660 [==============================] - 6s 1ms/step - loss: 0.6618 - accuracy: 0.6274 - val_loss: 0.6582 - val_accuracy: 0.6323\n",
      "Epoch 2/10\n",
      "5660/5660 [==============================] - 6s 1ms/step - loss: 0.6594 - accuracy: 0.6302 - val_loss: 0.6580 - val_accuracy: 0.6323\n",
      "Epoch 3/10\n",
      "5660/5660 [==============================] - 6s 1ms/step - loss: 0.6593 - accuracy: 0.6302 - val_loss: 0.6584 - val_accuracy: 0.6323\n",
      "Epoch 4/10\n",
      "5660/5660 [==============================] - 6s 1ms/step - loss: 0.6592 - accuracy: 0.6302 - val_loss: 0.6580 - val_accuracy: 0.6323\n",
      "Epoch 5/10\n",
      "5660/5660 [==============================] - 6s 1ms/step - loss: 0.6592 - accuracy: 0.6301 - val_loss: 0.6580 - val_accuracy: 0.6323\n",
      "Epoch 6/10\n",
      "5660/5660 [==============================] - 6s 1ms/step - loss: 0.6591 - accuracy: 0.6302 - val_loss: 0.6583 - val_accuracy: 0.6323\n",
      "Epoch 7/10\n",
      "5660/5660 [==============================] - 6s 1ms/step - loss: 0.6590 - accuracy: 0.6302 - val_loss: 0.6580 - val_accuracy: 0.6323\n",
      "Epoch 8/10\n",
      "5660/5660 [==============================] - 6s 1ms/step - loss: 0.6589 - accuracy: 0.6302 - val_loss: 0.6584 - val_accuracy: 0.6323\n",
      "Epoch 9/10\n",
      "5660/5660 [==============================] - 6s 1ms/step - loss: 0.6588 - accuracy: 0.6302 - val_loss: 0.6579 - val_accuracy: 0.6322\n",
      "Epoch 10/10\n",
      "5660/5660 [==============================] - 6s 1ms/step - loss: 0.6588 - accuracy: 0.6302 - val_loss: 0.6581 - val_accuracy: 0.6323\n"
     ]
    }
   ],
   "source": [
    "history = model.fit(svd_x_train, y_train,\n",
    "                    epochs = 10,\n",
    "                    validation_data=(svd_x_test, y_test),\n",
    "                    batch_size=50)"
   ]
  },
  {
   "cell_type": "code",
   "execution_count": 196,
   "metadata": {},
   "outputs": [
    {
     "name": "stdout",
     "output_type": "stream",
     "text": [
      "8844/8844 [==============================] - 6s 708us/step - loss: 0.6588 - accuracy: 0.6302\n",
      "Training accuracy:  0.6301872730255127\n",
      "3791/3791 [==============================] - 3s 700us/step - loss: 0.6581 - accuracy: 0.6323\n",
      "Test accuracy:  0.6322689056396484\n"
     ]
    }
   ],
   "source": [
    "loss, accuracy = model.evaluate(svd_x_train, y_train)\n",
    "print('Training accuracy: ', accuracy)\n",
    "loss, accuracy = model.evaluate(svd_x_test, y_test)\n",
    "print('Test accuracy: ', accuracy)"
   ]
  },
  {
   "cell_type": "code",
   "execution_count": 200,
   "metadata": {},
   "outputs": [
    {
     "name": "stdout",
     "output_type": "stream",
     "text": [
      "3791/3791 [==============================] - 2s 611us/step\n"
     ]
    }
   ],
   "source": [
    "y_pred = model.predict(svd_x_test)"
   ]
  },
  {
   "cell_type": "code",
   "execution_count": 202,
   "metadata": {},
   "outputs": [],
   "source": [
    "y_pred = np.argmax(y_pred, axis=1)"
   ]
  },
  {
   "cell_type": "code",
   "execution_count": 203,
   "metadata": {},
   "outputs": [
    {
     "data": {
      "text/plain": [
       "array([[76686,     0],\n",
       "       [44601,     0]], dtype=int64)"
      ]
     },
     "execution_count": 203,
     "metadata": {},
     "output_type": "execute_result"
    }
   ],
   "source": [
    "confusion_matrix(y_test, y_pred)"
   ]
  },
  {
   "cell_type": "code",
   "execution_count": 204,
   "metadata": {},
   "outputs": [
    {
     "name": "stdout",
     "output_type": "stream",
     "text": [
      "accuracy:  0.6322689158772169\n",
      "recall:  0.0\n",
      "precision:  0.0\n",
      "f1 score:  0.0\n"
     ]
    },
    {
     "name": "stderr",
     "output_type": "stream",
     "text": [
      "c:\\Users\\John\\anaconda3\\envs\\py_test_env\\lib\\site-packages\\sklearn\\metrics\\_classification.py:1344: UndefinedMetricWarning: Precision is ill-defined and being set to 0.0 due to no predicted samples. Use `zero_division` parameter to control this behavior.\n",
      "  _warn_prf(average, modifier, msg_start, len(result))\n"
     ]
    }
   ],
   "source": [
    "print('accuracy: ', accuracy_score(y_test, y_pred))\n",
    "print('recall: ', recall_score(y_test, y_pred))\n",
    "print('precision: ', precision_score(y_test, y_pred))\n",
    "print('f1 score: ', f1_score(y_test, y_pred))"
   ]
  },
  {
   "cell_type": "code",
   "execution_count": null,
   "metadata": {},
   "outputs": [],
   "source": []
  }
 ],
 "metadata": {
  "kernelspec": {
   "display_name": "Python 3 (ipykernel)",
   "language": "python",
   "name": "python3"
  },
  "language_info": {
   "codemirror_mode": {
    "name": "ipython",
    "version": 3
   },
   "file_extension": ".py",
   "mimetype": "text/x-python",
   "name": "python",
   "nbconvert_exporter": "python",
   "pygments_lexer": "ipython3",
   "version": "3.9.15"
  }
 },
 "nbformat": 4,
 "nbformat_minor": 4
}
